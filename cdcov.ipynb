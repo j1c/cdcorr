{
 "cells": [
  {
   "cell_type": "code",
   "execution_count": 1,
   "id": "612a8291-02fe-4947-a5cf-76fae7c185f9",
   "metadata": {},
   "outputs": [],
   "source": [
    "import time\n",
    "\n",
    "import numpy as np\n",
    "from numba import jit\n",
    "from sklearn.metrics.pairwise import pairwise_distances, pairwise_kernels"
   ]
  },
  {
   "cell_type": "code",
   "execution_count": 18,
   "id": "79315fc5-2eea-4813-b584-0d74491c626c",
   "metadata": {},
   "outputs": [],
   "source": [
    "def compute_kernel(X, sigma):\n",
    "    \"\"\"\n",
    "    X : (n_samples, n_dim)\n",
    "    sigma : float\n",
    "    \"\"\"\n",
    "\n",
    "    d = X.shape[1]\n",
    "    denom = np.power(2 * np.pi, d / 2.0) * np.power(sigma, d / 2)\n",
    "    constant = 1 / denom\n",
    "\n",
    "    kern = pairwise_kernels(X, metric=\"rbf\", gamma=1 / (sigma * 2)) * constant\n",
    "\n",
    "    return kern\n",
    "\n",
    "\n",
    "@jit(nopython=True)\n",
    "def compute_distance(distx, disty, i, j, k, l):\n",
    "    withinx = distx[i, j] + distx[k, l] - distx[i, k] - distx[j, l]\n",
    "    withiny = disty[i, j] + disty[k, l] - disty[i, k] - disty[j, l]\n",
    "\n",
    "    return withinx * withiny\n",
    "\n",
    "\n",
    "@jit(nopython=True)\n",
    "def compute_cov(distx, disty, distz):\n",
    "    n = X.shape[0]\n",
    "    cov = np.zeros(n)\n",
    "\n",
    "    for u in range(n):\n",
    "        for i in range(n):\n",
    "            for j in range(n):\n",
    "                for k in range(n):\n",
    "                    for l in range(n):\n",
    "                        dijkl = compute_distance(distx, disty, i, j, k, l)\n",
    "                        dijlk = compute_distance(distx, disty, i, j, l, k)\n",
    "                        dilkj = compute_distance(distx, disty, i, l, k, j)\n",
    "                        d = dijkl + dijlk + dilkj\n",
    "\n",
    "                        cov[u] += (\n",
    "                            d * distz[i, u] * distz[j, u] * distz[k, u] * distz[l, u]\n",
    "                        )\n",
    "\n",
    "        cov[u] /= np.power(n, 4)\n",
    "\n",
    "    return cov\n",
    "\n",
    "\n",
    "# @jit(nopython=True)\n",
    "def compute_cor(dx, dy, dz):\n",
    "    cov_xy = compute_cov(\n",
    "        dx,\n",
    "        dy,\n",
    "        dz,\n",
    "    )\n",
    "    cov_xx = compute_cov(\n",
    "        dx,\n",
    "        dx,\n",
    "        dz,\n",
    "    )\n",
    "    cov_yy = compute_cov(\n",
    "        dy,\n",
    "        dy,\n",
    "        dz,\n",
    "    )\n",
    "\n",
    "    return cov_xy / np.sqrt(cov_xx * cov_yy)"
   ]
  },
  {
   "cell_type": "code",
   "execution_count": 17,
   "id": "4a36a78c-5ea8-44b3-8128-f0b6127a88a6",
   "metadata": {},
   "outputs": [],
   "source": [
    "X = np.loadtxt(\"./src/x.csv\", skiprows=1, delimiter=\",\")\n",
    "Y = np.loadtxt(\"./src/y.csv\", skiprows=1, delimiter=\",\")\n",
    "Z = np.loadtxt(\"./src/z.csv\", skiprows=1, delimiter=\",\")\n",
    "\n",
    "dx = pairwise_distances(X)\n",
    "dy = pairwise_distances(Y)\n",
    "dz = compute_kernel(Z, 0.5)"
   ]
  },
  {
   "cell_type": "code",
   "execution_count": 22,
   "id": "1a96a05e-cd84-4daa-bf83-ef381bec4c3b",
   "metadata": {},
   "outputs": [
    {
     "name": "stdout",
     "output_type": "stream",
     "text": [
      "0.43752312660217285\n"
     ]
    }
   ],
   "source": [
    "start = time.time()\n",
    "\n",
    "cdcov = compute_cov(\n",
    "    dx,\n",
    "    dy,\n",
    "    dz,\n",
    ")\n",
    "\n",
    "end = time.time()\n",
    "\n",
    "print(end - start)"
   ]
  },
  {
   "cell_type": "code",
   "execution_count": 27,
   "id": "8f5862ed-a92f-4790-bc77-8e392fefeb11",
   "metadata": {},
   "outputs": [
    {
     "name": "stdout",
     "output_type": "stream",
     "text": [
      "0.09127974510192871\n"
     ]
    }
   ],
   "source": [
    "start = time.time()\n",
    "\n",
    "cdcor = compute_cor(\n",
    "    dx,\n",
    "    dy,\n",
    "    dz,\n",
    ")\n",
    "\n",
    "end = time.time()\n",
    "\n",
    "print(end - start)"
   ]
  },
  {
   "cell_type": "code",
   "execution_count": 4,
   "id": "51baac22-72f1-4505-ab79-aafe61e30dcc",
   "metadata": {},
   "outputs": [],
   "source": [
    "def example1(n):\n",
    "    mean = np.array([0, 0, 0])\n",
    "    cov = np.array([[1, 0.36, 0.6], [0.36, 1, 0.6], [0.6, 0.6, 1]])\n",
    "\n",
    "    X = np.random.multivariate_normal(mean, cov, size=n)\n",
    "    Y = np.random.multivariate_normal(mean, cov, size=n)\n",
    "    Z = np.random.multivariate_normal(mean, cov, size=n)\n",
    "\n",
    "    return X, Y, Z"
   ]
  },
  {
   "cell_type": "code",
   "execution_count": 14,
   "id": "efa6d69c-1971-4a2d-b03b-8bdfc9ee8781",
   "metadata": {},
   "outputs": [],
   "source": [
    "X, Y, Z = example1(100)\n",
    "\n",
    "dx = pairwise_distances(X)\n",
    "dy = pairwise_distances(Y)\n",
    "dz = compute_kernel(Z, 0.5)"
   ]
  },
  {
   "cell_type": "code",
   "execution_count": 19,
   "id": "af1ec1a0-3e56-4888-b069-770ff10baf4d",
   "metadata": {},
   "outputs": [
    {
     "name": "stdout",
     "output_type": "stream",
     "text": [
      "93.0084080696106\n"
     ]
    }
   ],
   "source": [
    "start = time.time()\n",
    "\n",
    "cdcor = compute_cov(\n",
    "    dx,\n",
    "    dy,\n",
    "    dz,\n",
    ")\n",
    "\n",
    "end = time.time()\n",
    "\n",
    "print(end - start)"
   ]
  },
  {
   "cell_type": "code",
   "execution_count": 16,
   "id": "82699b01-78ef-4073-b4aa-154bc3c8e60f",
   "metadata": {},
   "outputs": [],
   "source": [
    "np.savetxt(\"./data/x.csv\", X, delimiter=\",\", comments=\"\", header=\"a,b,c\")\n",
    "np.savetxt(\"./data/y.csv\", Y, delimiter=\",\", comments=\"\", header=\"a,b,c\")\n",
    "np.savetxt(\"./data/z.csv\", Z, delimiter=\",\", comments=\"\", header=\"a,b,c\")"
   ]
  },
  {
   "cell_type": "code",
   "execution_count": 17,
   "id": "008d893e-2571-41d1-add7-0e3fc916447c",
   "metadata": {},
   "outputs": [
    {
     "data": {
      "text/plain": [
       "(50,)"
      ]
     },
     "execution_count": 17,
     "metadata": {},
     "output_type": "execute_result"
    }
   ],
   "source": [
    "cdcor.shape"
   ]
  },
  {
   "cell_type": "code",
   "execution_count": null,
   "id": "dcb32068-1aab-4fc6-8eca-a1aa6c9ce4b7",
   "metadata": {},
   "outputs": [],
   "source": []
  }
 ],
 "metadata": {
  "kernelspec": {
   "display_name": "Python 3 (ipykernel)",
   "language": "python",
   "name": "python3"
  },
  "language_info": {
   "codemirror_mode": {
    "name": "ipython",
    "version": 3
   },
   "file_extension": ".py",
   "mimetype": "text/x-python",
   "name": "python",
   "nbconvert_exporter": "python",
   "pygments_lexer": "ipython3",
   "version": "3.8.2"
  }
 },
 "nbformat": 4,
 "nbformat_minor": 5
}
