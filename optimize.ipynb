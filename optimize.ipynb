{
 "cells": [
  {
   "cell_type": "code",
   "execution_count": 1,
   "id": "e64284cc-6b84-49df-a75e-660b9082e706",
   "metadata": {},
   "outputs": [],
   "source": [
    "import time\n",
    "\n",
    "import numpy as np\n",
    "from joblib import Parallel, delayed\n",
    "from numba import jit\n",
    "from sklearn.metrics.pairwise import pairwise_distances, pairwise_kernels\n",
    "\n",
    "\n",
    "def compute_kernel(X, sigma):\n",
    "    \"\"\"\n",
    "    X : (n_samples, n_dim)\n",
    "    sigma : float\n",
    "    \"\"\"\n",
    "\n",
    "    d = X.shape[1]\n",
    "    denom = np.power(2 * np.pi, d / 2.0) * np.power(sigma, d / 2)\n",
    "    constant = 1 / denom\n",
    "\n",
    "    kern = pairwise_kernels(X, metric=\"rbf\", gamma=1 / (sigma * 2)) * constant\n",
    "\n",
    "    return kern"
   ]
  },
  {
   "cell_type": "code",
   "execution_count": 50,
   "id": "f4a66f9c-ec52-488b-bde3-341399bba8ba",
   "metadata": {},
   "outputs": [],
   "source": [
    "cov = np.array([[1, 0.7, 0.6], [0.7, 1, 0.6], [0.6, 0.6, 1]])"
   ]
  },
  {
   "cell_type": "code",
   "execution_count": 51,
   "id": "db060103-dd1b-48b7-a4e1-d2c118e2fe7e",
   "metadata": {},
   "outputs": [
    {
     "data": {
      "text/plain": [
       "array([[1. , 0.7, 0.6],\n",
       "       [0.7, 1. , 0.6],\n",
       "       [0.6, 0.6, 1. ]])"
      ]
     },
     "execution_count": 51,
     "metadata": {},
     "output_type": "execute_result"
    }
   ],
   "source": [
    "cov"
   ]
  },
  {
   "cell_type": "code",
   "execution_count": 42,
   "id": "f5f725b0-8c8e-4b97-b533-d204bb2f59a2",
   "metadata": {},
   "outputs": [],
   "source": [
    "def example1(n, reps):\n",
    "    mean = np.array([0, 0, 0])\n",
    "    cov = np.array([[1, 0.36, 0.6], [0.36, 1, 0.6], [0.6, 0.6, 1]])\n",
    "\n",
    "    X = np.random.multivariate_normal(mean, cov, size=(reps, n))\n",
    "    Y = np.random.multivariate_normal(mean, cov, size=(reps, n))\n",
    "    Z = np.random.multivariate_normal(mean, cov, size=(reps, n))\n",
    "\n",
    "    return X, Y, Z\n",
    "\n",
    "\n",
    "def example5(n, reps):\n",
    "    mean = np.array([0, 0, 0])\n",
    "    cov = np.array([[1, 0.7, 0.6], [0.7, 1, 0.6], [0.6, 0.6, 1]])\n",
    "\n",
    "    X = np.random.multivariate_normal(mean, cov, size=(reps, n))\n",
    "    Y = np.random.multivariate_normal(mean, cov, size=(reps, n))\n",
    "    Z = np.random.multivariate_normal(mean, cov, size=(reps, n))\n",
    "\n",
    "    return X, Y, Z"
   ]
  },
  {
   "cell_type": "code",
   "execution_count": 2,
   "id": "a6ae6994-4cce-452b-83a4-7c9f08c23ab0",
   "metadata": {},
   "outputs": [],
   "source": [
    "def weighted_center_mat(distx, weights):\n",
    "    n = distx.shape[0]\n",
    "\n",
    "    weight_distance = np.average(distx, axis=0, weights=weights)\n",
    "    weight_distance_sum = np.average(weight_distance, weights=weights)\n",
    "\n",
    "    exp_distx = (\n",
    "        np.repeat(weight_distance, n).reshape(-1, n).T\n",
    "        + np.repeat(weight_distance, n).reshape(-1, n)\n",
    "        - (weight_distance_sum)\n",
    "    )\n",
    "\n",
    "    cent_distx = distx - exp_distx\n",
    "\n",
    "    return cent_distx\n",
    "\n",
    "\n",
    "def weighted_center_mat2(distx, weights):\n",
    "    n = distx.shape[0]\n",
    "\n",
    "    row_sum = np.average(distx, axis=0, weights=weights)\n",
    "    total_sum = np.average(row_sum, weights=weights)\n",
    "\n",
    "    # exp_distx = (\n",
    "    #     np.repeat(weight_distance, n).reshape(-1, n).T\n",
    "    #     + np.repeat(weight_distance, n).reshape(-1, n)\n",
    "    #     - (weight_distance_sum)\n",
    "    # )\n",
    "\n",
    "    cent_distx = distx - row_sum.reshape(-1, n).T - row_sum.reshape(-1, n) + total_sum\n",
    "\n",
    "    return cent_distx"
   ]
  },
  {
   "cell_type": "code",
   "execution_count": 3,
   "id": "56965a98-028c-4a45-8466-90577530cba9",
   "metadata": {},
   "outputs": [],
   "source": [
    "@jit(nopython=True)\n",
    "def weighted_center_matjit(distx, weights):\n",
    "    n = distx.shape[0]\n",
    "\n",
    "    scl = np.sum(weights)\n",
    "    row_sum = np.sum(np.multiply(distx, weights), axis=1) / scl\n",
    "    total_sum = weights @ row_sum / scl\n",
    "\n",
    "    exp_distx = (\n",
    "        np.repeat(row_sum, n).reshape(-1, n).T\n",
    "        + np.repeat(row_sum, n).reshape(-1, n)\n",
    "        - (total_sum)\n",
    "    )\n",
    "\n",
    "    cent_distx = distx - exp_distx\n",
    "\n",
    "    return cent_distx\n",
    "\n",
    "\n",
    "@jit(nopython=True)\n",
    "def weighted_center_mat2jit(distx, weights):\n",
    "    n = distx.shape[0]\n",
    "\n",
    "    scl = np.sum(weights)\n",
    "    row_sum = np.sum(np.multiply(distx, weights), axis=1) / scl\n",
    "    total_sum = weights @ row_sum / scl\n",
    "\n",
    "    # exp_distx = (\n",
    "    #     np.repeat(weight_distance, n).reshape(-1, n).T\n",
    "    #     + np.repeat(weight_distance, n).reshape(-1, n)\n",
    "    #     - (weight_distance_sum)\n",
    "    # )\n",
    "\n",
    "    cent_distx = distx - row_sum.reshape(-1, n).T - row_sum.reshape(-1, n) + total_sum\n",
    "\n",
    "    return cent_distx"
   ]
  },
  {
   "cell_type": "code",
   "execution_count": 36,
   "id": "b2bfd253-e81b-4efa-9912-3caf2bafe750",
   "metadata": {},
   "outputs": [],
   "source": [
    "def compute_dcov(distx, disty, distz):\n",
    "    n = distx.shape[0]\n",
    "\n",
    "    cdcov = np.zeros(n)\n",
    "\n",
    "    for i in range(n):\n",
    "        r = distz[[i]]\n",
    "        cdx = weighted_center_mat2(distx, distz[i])\n",
    "        cdy = weighted_center_mat2(disty, distz[i])\n",
    "        cdcov[i] = (cdx * cdy * r * r.T).sum() / r.sum() ** 2\n",
    "\n",
    "    cdcov *= 12 * np.power(distz.mean(axis=0), 4)\n",
    "\n",
    "    return cdcov.mean()\n",
    "\n",
    "\n",
    "def resample_index(probs, axis=1):\n",
    "    n = probs.shape[1 - axis]\n",
    "    sums = probs.sum(axis=1, keepdims=True)\n",
    "    idx = ((probs / sums).cumsum(axis=1) > np.random.rand(n)[:, None]).argmax(axis=1)\n",
    "\n",
    "    return idx\n",
    "\n",
    "\n",
    "def bootstrap(distx, disty, distz):\n",
    "    idx = resample_index(distz)\n",
    "    permx = distx[idx][:, idx]\n",
    "\n",
    "    permuted_stat = compute_dcov(permx, disty, distz)\n",
    "\n",
    "    return permuted_stat\n",
    "\n",
    "\n",
    "def cdcov_test(X, Y, Z, sigma=1, reps=1000, workers=1):\n",
    "    distx = pairwise_distances(X)\n",
    "    disty = pairwise_distances(Y)\n",
    "    distz = compute_kernel(Z, sigma=sigma)\n",
    "\n",
    "    cdcov_stat = compute_dcov(distx, disty, distz)\n",
    "\n",
    "    permuted_stats = Parallel(n_jobs=workers)(\n",
    "        delayed(bootstrap)(distx, disty, distz) for _ in range(reps)\n",
    "    )\n",
    "    permuted_stats = np.array(permuted_stats)\n",
    "\n",
    "    pvalue = (1 + (permuted_stats >= cdcov_stat).sum()) / (1 + reps)\n",
    "\n",
    "    return pvalue"
   ]
  },
  {
   "cell_type": "code",
   "execution_count": 18,
   "id": "7083c125-1912-4d6a-9c84-8f929b2024f4",
   "metadata": {},
   "outputs": [],
   "source": [
    "X = np.loadtxt(\"./data/x.csv\", skiprows=1, delimiter=\",\")\n",
    "Y = np.loadtxt(\"./data/y.csv\", skiprows=1, delimiter=\",\")\n",
    "Z = np.loadtxt(\"./data/z.csv\", skiprows=1, delimiter=\",\")\n",
    "\n",
    "distx = pairwise_distances(X)\n",
    "disty = pairwise_distances(Y)\n",
    "distz = compute_kernel(Z, 0.5)"
   ]
  },
  {
   "cell_type": "code",
   "execution_count": 33,
   "id": "65624988-9fa7-4db9-bfb9-f513745445f9",
   "metadata": {},
   "outputs": [],
   "source": [
    "n = 100\n",
    "reps = 100\n",
    "\n",
    "X, Y, Z = example1(n, reps)\n",
    "\n",
    "np.save(f\"./data/x_{n}\", X)\n",
    "np.save(f\"./data/y_{n}\", Y)\n",
    "np.save(f\"./data/z_{n}\", Z)"
   ]
  },
  {
   "cell_type": "code",
   "execution_count": 37,
   "id": "292a5820-898b-4ff4-bfaa-17c4631e7db9",
   "metadata": {},
   "outputs": [],
   "source": [
    "reps = 100\n",
    "bootstraps = 250\n",
    "\n",
    "ns = [50, 100, 150, 200, 250]\n",
    "sigma = 1\n",
    "\n",
    "results = {}\n",
    "\n",
    "\n",
    "tmp = []\n",
    "for i in range(reps):\n",
    "    tmp.append(cdcov_test(X[i], Y[i], Z[i], sigma=1 / 3, reps=500, workers=-1))"
   ]
  },
  {
   "cell_type": "code",
   "execution_count": 40,
   "id": "f1b64f94-c295-4f1e-86ed-e5fb32d66edf",
   "metadata": {},
   "outputs": [
    {
     "data": {
      "text/plain": [
       "0.04"
      ]
     },
     "execution_count": 40,
     "metadata": {},
     "output_type": "execute_result"
    }
   ],
   "source": [
    "(np.array(tmp) < 0.05).mean()"
   ]
  },
  {
   "cell_type": "code",
   "execution_count": 43,
   "id": "0f25cc4b-4875-47a8-8e12-32cd26378fea",
   "metadata": {},
   "outputs": [],
   "source": [
    "n = 100\n",
    "reps = 100\n",
    "\n",
    "X, Y, Z = example5(n, reps)"
   ]
  },
  {
   "cell_type": "code",
   "execution_count": 44,
   "id": "b5bb2151-f3c7-44ec-987e-7fc7830b23b3",
   "metadata": {},
   "outputs": [
    {
     "data": {
      "text/plain": [
       "0.03"
      ]
     },
     "execution_count": 44,
     "metadata": {},
     "output_type": "execute_result"
    }
   ],
   "source": [
    "tmp = []\n",
    "for i in range(reps):\n",
    "    tmp.append(cdcov_test(X[i], Y[i], Z[i], sigma=1 / 3, reps=500, workers=-1))\n",
    "\n",
    "(np.array(tmp) < 0.05).mean()"
   ]
  },
  {
   "cell_type": "code",
   "execution_count": 48,
   "id": "f276b29d-0314-4a59-afd3-0a7a5a439fce",
   "metadata": {},
   "outputs": [],
   "source": [
    "i = 5"
   ]
  },
  {
   "cell_type": "code",
   "execution_count": 49,
   "id": "83fa4bcc-1cfe-49c5-ba88-d0ff35a6c2d7",
   "metadata": {},
   "outputs": [
    {
     "data": {
      "text/plain": [
       "0.6973026973026973"
      ]
     },
     "execution_count": 49,
     "metadata": {},
     "output_type": "execute_result"
    }
   ],
   "source": [
    "cdcov_test(X[i], Y[i], Z[i], sigma=1 / 3, reps=1000, workers=1)"
   ]
  },
  {
   "cell_type": "code",
   "execution_count": 52,
   "id": "04d731ca-ebec-4bfc-be77-f1540a6cb4f6",
   "metadata": {},
   "outputs": [],
   "source": [
    "mean = np.array([0, 0, 0])\n",
    "cov = np.array([[1, 0.7, 0.6], [0.7, 1, 0.6], [0.6, 0.6, 1]])\n",
    "\n",
    "X = np.random.multivariate_normal(mean, cov, size=n)\n",
    "Y = np.random.multivariate_normal(mean, cov, size=n)\n",
    "Z = np.random.multivariate_normal(mean, cov, size=n)"
   ]
  },
  {
   "cell_type": "code",
   "execution_count": 57,
   "id": "0ada296a-059a-402b-9e12-6094105aadd3",
   "metadata": {},
   "outputs": [
    {
     "data": {
      "text/plain": [
       "0.10789210789210789"
      ]
     },
     "execution_count": 57,
     "metadata": {},
     "output_type": "execute_result"
    }
   ],
   "source": [
    "cdcov_test(X, Y, Z, sigma=1 / n, reps=1000, workers=1)"
   ]
  },
  {
   "cell_type": "code",
   "execution_count": 56,
   "id": "169f5d68-b636-4c9c-a08b-7a9c980ee65f",
   "metadata": {},
   "outputs": [
    {
     "data": {
      "text/plain": [
       "4.726543602414709"
      ]
     },
     "execution_count": 56,
     "metadata": {},
     "output_type": "execute_result"
    }
   ],
   "source": [
    "8 * np.sqrt(np.pi) / 3"
   ]
  },
  {
   "cell_type": "code",
   "execution_count": null,
   "id": "ebf4173d-956d-4614-b8d5-8dbb160da307",
   "metadata": {},
   "outputs": [],
   "source": []
  }
 ],
 "metadata": {
  "kernelspec": {
   "display_name": "Python 3 (ipykernel)",
   "language": "python",
   "name": "python3"
  },
  "language_info": {
   "codemirror_mode": {
    "name": "ipython",
    "version": 3
   },
   "file_extension": ".py",
   "mimetype": "text/x-python",
   "name": "python",
   "nbconvert_exporter": "python",
   "pygments_lexer": "ipython3",
   "version": "3.9.14"
  }
 },
 "nbformat": 4,
 "nbformat_minor": 5
}
