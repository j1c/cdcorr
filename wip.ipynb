{
 "cells": [
  {
   "cell_type": "code",
   "execution_count": 2,
   "id": "33d08c65-7b4e-4904-90ef-3f626f10669d",
   "metadata": {},
   "outputs": [],
   "source": [
    "import numpy as np\n",
    "import scipy as sp\n",
    "from scipy.spatial.distance import pdist, squareform"
   ]
  },
  {
   "cell_type": "code",
   "execution_count": 3,
   "id": "16222e1f-f1f4-47f3-8be6-0e5f3981066d",
   "metadata": {},
   "outputs": [],
   "source": [
    "X = np.random.normal(size=(10, 2))\n",
    "Y = np.random.normal(size=(10, 2))"
   ]
  },
  {
   "cell_type": "code",
   "execution_count": 50,
   "id": "bfcd3fbb-5632-4f97-9c6f-dfc285b80f56",
   "metadata": {},
   "outputs": [],
   "source": [
    "n = X.shape[0]\n",
    "dist_X = squareform(pdist(X))\n",
    "dist_Y = squareform(pdist(Y))\n",
    "\n",
    "\n",
    "def d(dist_X, dist_Y, i, j, k, l):\n",
    "    out = (dist_X[i, j] + dist_X[k, l] - dist_X[i, k] - dist_X[j, l]) * (\n",
    "        dist_Y[i, j] + dist_Y[k, l] - dist_Y[i, k] - dist_Y[j, l]\n",
    "    )\n",
    "\n",
    "    return out\n",
    "\n",
    "\n",
    "def ds(dist_X, dist_Y, i, j, k, l):\n",
    "    d1 = d(dist_X, dist_Y, i, j, k, l)\n",
    "    d2 = d(dist_X, dist_Y, i, j, l, k)\n",
    "    d3 = d(dist_X, dist_Y, i, l, k, j)\n",
    "\n",
    "    return d1 + d2 + d3"
   ]
  },
  {
   "cell_type": "code",
   "execution_count": 51,
   "id": "b44632f7-a748-4a7c-9a25-330b24c8d20f",
   "metadata": {},
   "outputs": [],
   "source": [
    "def kernel(x, sigma=0.5):\n",
    "    \"\"\"\n",
    "    Gaussian kernel for vectors\n",
    "    \"\"\"\n",
    "    r = x.size\n",
    "    u = x[np.newaxis, :]\n",
    "\n",
    "    out = (\n",
    "        np.power(2 * np.pi, -r / 2)\n",
    "        / (sigma**r)\n",
    "        * np.exp(-1 / 2 * np.linalg.norm((sigma ** (-1) * u)) ** 2)\n",
    "    )\n",
    "\n",
    "    return out"
   ]
  },
  {
   "cell_type": "code",
   "execution_count": 78,
   "id": "3c32d00e-0f0b-45cb-b3f3-42dff45434e7",
   "metadata": {},
   "outputs": [],
   "source": [
    "def stat(X, Y, Z, sigma=0.5):\n",
    "    n = X.shape[0]\n",
    "    dist_X = squareform(pdist(X))\n",
    "    dist_Y = squareform(pdist(Y))\n",
    "\n",
    "    stat = np.zeros(n)\n",
    "\n",
    "    for i in range(n):\n",
    "        for j in range(i + 1, n):\n",
    "            for k in range(j + 1, n):\n",
    "                for l in range(k + 1, n):\n",
    "                    for u in range(l + 1, n):\n",
    "                        dijkl = ds(dist_X, dist_Y, i, j, k, l)\n",
    "                        kiu = kernel(sigma * (Z[i] - Z[u]))\n",
    "                        kju = kernel(sigma * (Z[j] - Z[u]))\n",
    "                        kku = kernel(sigma * (Z[k] - Z[u]))\n",
    "                        klu = kernel(sigma * (Z[l] - Z[u]))\n",
    "\n",
    "                        stat[i] += dijkl * kiu * kju * kku * klu\n",
    "\n",
    "        stat[i] /= n**4\n",
    "\n",
    "    return stat.mean()"
   ]
  },
  {
   "cell_type": "code",
   "execution_count": 79,
   "id": "9e82908e-cf7a-4def-8b29-af9a0f2d2e6d",
   "metadata": {},
   "outputs": [],
   "source": [
    "size = (10, 2)\n",
    "\n",
    "X = np.random.normal(size=(10, 2))\n",
    "Y = np.random.normal(size=(10, 2))\n",
    "Z = np.random.normal(size=(10, 2))"
   ]
  },
  {
   "cell_type": "code",
   "execution_count": 83,
   "id": "03636a4b-47fe-4b2d-aa15-5a17def92843",
   "metadata": {},
   "outputs": [
    {
     "data": {
      "text/plain": [
       "5.093515246023474e-07"
      ]
     },
     "execution_count": 83,
     "metadata": {},
     "output_type": "execute_result"
    }
   ],
   "source": [
    "stat(X, Y, Z)"
   ]
  },
  {
   "cell_type": "code",
   "execution_count": 81,
   "id": "590268f2-d241-48b6-b34b-1c2b15ae2632",
   "metadata": {},
   "outputs": [],
   "source": [
    "def stat2(X, Y, Z, sigma=0.5):\n",
    "    n = X.shape[0]\n",
    "    dist_X = squareform(pdist(X))\n",
    "    dist_Y = squareform(pdist(Y))\n",
    "\n",
    "    stat = np.zeros(n)\n",
    "\n",
    "    for i in range(n):\n",
    "        for j in range(n):\n",
    "            for k in range(n):\n",
    "                for l in range(n):\n",
    "                    for u in range(n):\n",
    "                        dijkl = ds(dist_X, dist_Y, i, j, k, l)\n",
    "                        kiu = kernel(sigma * (Z[i] - Z[u]))\n",
    "                        kju = kernel(sigma * (Z[j] - Z[u]))\n",
    "                        kku = kernel(sigma * (Z[k] - Z[u]))\n",
    "                        klu = kernel(sigma * (Z[l] - Z[u]))\n",
    "\n",
    "                        stat[i] += dijkl * kiu * kju * kku * klu\n",
    "\n",
    "        stat[i] /= n**4\n",
    "\n",
    "    return stat.mean()"
   ]
  },
  {
   "cell_type": "code",
   "execution_count": 82,
   "id": "e7945e84-f5fb-42c1-89d4-3c8ab74798f2",
   "metadata": {},
   "outputs": [
    {
     "data": {
      "text/plain": [
       "0.009324582045096074"
      ]
     },
     "execution_count": 82,
     "metadata": {},
     "output_type": "execute_result"
    }
   ],
   "source": [
    "stat2(X, Y, Z)"
   ]
  },
  {
   "cell_type": "code",
   "execution_count": null,
   "id": "4549c0af-bad2-49fc-b7c9-16df5e765365",
   "metadata": {},
   "outputs": [],
   "source": []
  }
 ],
 "metadata": {
  "kernelspec": {
   "display_name": "Python 3 (ipykernel)",
   "language": "python",
   "name": "python3"
  },
  "language_info": {
   "codemirror_mode": {
    "name": "ipython",
    "version": 3
   },
   "file_extension": ".py",
   "mimetype": "text/x-python",
   "name": "python",
   "nbconvert_exporter": "python",
   "pygments_lexer": "ipython3",
   "version": "3.9.14"
  }
 },
 "nbformat": 4,
 "nbformat_minor": 5
}
