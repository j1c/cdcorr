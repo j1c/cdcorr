{
 "cells": [
  {
   "cell_type": "code",
   "execution_count": 2,
   "id": "15454c56-f6cb-42b9-b4e1-bf05080cc688",
   "metadata": {},
   "outputs": [],
   "source": [
    "import numpy as np"
   ]
  },
  {
   "cell_type": "code",
   "execution_count": 3,
   "id": "82c0b887-1e6b-49e1-9ddf-d9a4abc6b8c2",
   "metadata": {},
   "outputs": [],
   "source": [
    "def example1(n, reps):\n",
    "    mean = np.array([0, 0, 0])\n",
    "    cov = np.array([[1, 0.36, 0.6], [0.36, 1, 0.6], [0.6, 0.6, 1]])\n",
    "\n",
    "    X = np.random.multivariate_normal(mean, cov, size=(reps, n))\n",
    "    Y = np.random.multivariate_normal(mean, cov, size=(reps, n))\n",
    "    Z = np.random.multivariate_normal(mean, cov, size=(reps, n))\n",
    "\n",
    "    return X, Y, Z"
   ]
  },
  {
   "cell_type": "code",
   "execution_count": 4,
   "id": "dae100c7-58cb-4267-b268-1424d8dc90a2",
   "metadata": {},
   "outputs": [],
   "source": [
    "n = 10\n",
    "reps = 100\n",
    "\n",
    "X, Y, Z = example1(n)\n",
    "np.savetxt(f\"./data/x_{n}.csv\", X, delimiter=\",\", comments=\"\", header=\"a,b,c\")\n",
    "np.savetxt(f\"./data/y_{n}.csv\", Y, delimiter=\",\", comments=\"\", header=\"a,b,c\")\n",
    "np.savetxt(f\"./data/z_{n}.csv\", Z, delimiter=\",\", comments=\"\", header=\"a,b,c\")"
   ]
  },
  {
   "cell_type": "code",
   "execution_count": null,
   "id": "a5e44373-5aac-4323-92bd-9f8bb5656c4c",
   "metadata": {},
   "outputs": [],
   "source": []
  }
 ],
 "metadata": {
  "kernelspec": {
   "display_name": "Python 3 (ipykernel)",
   "language": "python",
   "name": "python3"
  },
  "language_info": {
   "codemirror_mode": {
    "name": "ipython",
    "version": 3
   },
   "file_extension": ".py",
   "mimetype": "text/x-python",
   "name": "python",
   "nbconvert_exporter": "python",
   "pygments_lexer": "ipython3",
   "version": "3.9.14"
  }
 },
 "nbformat": 4,
 "nbformat_minor": 5
}
