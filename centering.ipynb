{
 "cells": [
  {
   "cell_type": "code",
   "execution_count": 11,
   "id": "e0745965-ce85-4a85-b04d-c0d74d4a610e",
   "metadata": {},
   "outputs": [],
   "source": [
    "import time\n",
    "\n",
    "import numpy as np\n",
    "from numba import jit\n",
    "from sklearn.metrics.pairwise import pairwise_distances"
   ]
  },
  {
   "cell_type": "code",
   "execution_count": 62,
   "id": "297717de-081b-4187-b169-1188f2b16fda",
   "metadata": {},
   "outputs": [],
   "source": [
    "def weighted_center_mat1(distx, weights):\n",
    "    n = distx.shape[0]\n",
    "\n",
    "    row_sum = np.average(distx, axis=0, weights=weights)\n",
    "    total_sum = np.average(row_sum, weights=weights)\n",
    "\n",
    "    exp_distx = ( # code borrowed from hyppo\n",
    "        np.repeat(row_sum, n).reshape(-1, n).T\n",
    "        + np.repeat(row_sum, n).reshape(-1, n)\n",
    "        - (total_sum)\n",
    "    )\n",
    "\n",
    "    cent_distx = distx - exp_distx\n",
    "\n",
    "    return cent_distx\n",
    "\n",
    "def weighted_center_mat2(distx, weights):\n",
    "    n = distx.shape[0]\n",
    "\n",
    "    scl = np.sum(weights)\n",
    "    row_sum = np.sum(np.multiply(distx, weights), axis=1) / scl\n",
    "    total_sum = weights @ row_sum / scl\n",
    "\n",
    "    exp_distx = ( # code borrowed from hyppo\n",
    "        np.repeat(row_sum, n).reshape(-1, n).T\n",
    "        + np.repeat(row_sum, n).reshape(-1, n)\n",
    "        - (total_sum)\n",
    "    )\n",
    "\n",
    "    cent_distx = distx - exp_distx\n",
    "\n",
    "    return cent_distx\n",
    "\n",
    "\n",
    "def weighted_center_mat3(distx, weights):\n",
    "    n = distx.shape[0]\n",
    "\n",
    "    row_sum = np.average(distx, axis=0, weights=weights)\n",
    "    total_sum = np.average(row_sum, weights=weights)\n",
    "\n",
    "    cent_distx = distx - row_sum.reshape(-1, n).T - row_sum.reshape(-1, n) + total_sum\n",
    "\n",
    "    return cent_distx\n",
    "\n",
    "def weighted_center_mat4(distx, weights):\n",
    "    n = distx.shape[0]\n",
    "\n",
    "    scl = np.sum(weights)\n",
    "    row_sum = np.sum(np.multiply(distx, weights), axis=1) / scl\n",
    "    total_sum = weights @ row_sum / scl\n",
    "\n",
    "    cent_distx = distx - row_sum.reshape(-1, n).T - row_sum.reshape(-1, n) + total_sum\n",
    "\n",
    "    return cent_distx\n",
    "\n",
    "@jit(cache=True)\n",
    "def weighted_center_mat2jit(distx, weights):\n",
    "    n = distx.shape[0]\n",
    "\n",
    "    scl = np.sum(weights)\n",
    "    row_sum = np.sum(np.multiply(distx, weights), axis=1) / scl\n",
    "    total_sum = weights @ row_sum / scl\n",
    "\n",
    "    exp_distx = ( # code borrowed from hyppo\n",
    "        np.repeat(row_sum, n).reshape(-1, n).T\n",
    "        + np.repeat(row_sum, n).reshape(-1, n)\n",
    "        - (total_sum)\n",
    "    )\n",
    "\n",
    "    cent_distx = distx - exp_distx\n",
    "\n",
    "    return cent_distx\n",
    "\n",
    "@jit(cache=True)\n",
    "def weighted_center_mat4jit(distx, weights):\n",
    "    n = distx.shape[0]\n",
    "\n",
    "    scl = np.sum(weights)\n",
    "    row_sum = np.sum(np.multiply(distx, weights), axis=1) / scl\n",
    "    total_sum = weights @ row_sum / scl\n",
    "\n",
    "    cent_distx = distx - row_sum.reshape(-1, n).T - row_sum.reshape(-1, n) + total_sum\n",
    "\n",
    "    return cent_distx"
   ]
  },
  {
   "cell_type": "code",
   "execution_count": 54,
   "id": "3373782b-a56d-417f-8b64-da741db429f4",
   "metadata": {},
   "outputs": [],
   "source": [
    "n = 2000\n",
    "\n",
    "X = np.random.normal(size=(n, 2))\n",
    "dx = pairwise_distances(X)\n",
    "dy = np.random.uniform(size=n)"
   ]
  },
  {
   "cell_type": "code",
   "execution_count": 55,
   "id": "81461df4-3ca5-41cd-831d-9eba6000816c",
   "metadata": {},
   "outputs": [
    {
     "name": "stdout",
     "output_type": "stream",
     "text": [
      "61.8 ms ± 241 µs per loop (mean ± std. dev. of 3 runs, 100 loops each)\n"
     ]
    }
   ],
   "source": [
    "r = %timeit -o -n 100 -r 3 weighted_center_mat1(dx, dy)"
   ]
  },
  {
   "cell_type": "code",
   "execution_count": 56,
   "id": "4137c571-1bcf-438a-8feb-40f288e9b389",
   "metadata": {},
   "outputs": [
    {
     "name": "stdout",
     "output_type": "stream",
     "text": [
      "61.4 ms ± 97.3 µs per loop (mean ± std. dev. of 3 runs, 100 loops each)\n"
     ]
    }
   ],
   "source": [
    "r = %timeit -o -n 100 -r 3 weighted_center_mat2(dx, dy)"
   ]
  },
  {
   "cell_type": "code",
   "execution_count": 57,
   "id": "a6acd23d-53ae-4358-bd2c-a13d22673bd5",
   "metadata": {},
   "outputs": [
    {
     "name": "stdout",
     "output_type": "stream",
     "text": [
      "19.1 ms ± 157 µs per loop (mean ± std. dev. of 3 runs, 100 loops each)\n"
     ]
    }
   ],
   "source": [
    "r = %timeit -o -n 100 -r 3 weighted_center_mat3(dx, dy)"
   ]
  },
  {
   "cell_type": "code",
   "execution_count": 58,
   "id": "ef446fa8-daed-4612-8b95-92ea189e9a8f",
   "metadata": {},
   "outputs": [
    {
     "name": "stdout",
     "output_type": "stream",
     "text": [
      "18.6 ms ± 48.1 µs per loop (mean ± std. dev. of 3 runs, 100 loops each)\n"
     ]
    }
   ],
   "source": [
    "r = %timeit -o -n 100 -r 3 weighted_center_mat4(dx, dy)"
   ]
  },
  {
   "cell_type": "code",
   "execution_count": 59,
   "id": "4867d2aa-831d-44f7-9bf3-63f0b1f8f93b",
   "metadata": {},
   "outputs": [
    {
     "name": "stdout",
     "output_type": "stream",
     "text": [
      "33.1 ms ± 58.8 µs per loop (mean ± std. dev. of 3 runs, 100 loops each)\n"
     ]
    }
   ],
   "source": [
    "r = %timeit -o -n 100 -r 3 weighted_center_mat4jit(dx, dy)"
   ]
  },
  {
   "cell_type": "code",
   "execution_count": 64,
   "id": "9a631009-d7dc-4cf8-99c4-2f8cbbec4fc8",
   "metadata": {},
   "outputs": [
    {
     "name": "stdout",
     "output_type": "stream",
     "text": [
      "63.7 ms ± 1.08 ms per loop (mean ± std. dev. of 3 runs, 100 loops each)\n"
     ]
    }
   ],
   "source": [
    "r = %timeit -o -n 100 -r 3 weighted_center_mat2jit(dx, dy)"
   ]
  },
  {
   "cell_type": "code",
   "execution_count": null,
   "id": "1abe5466-597e-407f-886b-9870d02a1aee",
   "metadata": {},
   "outputs": [],
   "source": []
  }
 ],
 "metadata": {
  "kernelspec": {
   "display_name": "Python 3 (ipykernel)",
   "language": "python",
   "name": "python3"
  },
  "language_info": {
   "codemirror_mode": {
    "name": "ipython",
    "version": 3
   },
   "file_extension": ".py",
   "mimetype": "text/x-python",
   "name": "python",
   "nbconvert_exporter": "python",
   "pygments_lexer": "ipython3",
   "version": "3.8.2"
  }
 },
 "nbformat": 4,
 "nbformat_minor": 5
}
