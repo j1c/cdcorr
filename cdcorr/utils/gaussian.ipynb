{
 "cells": [
  {
   "cell_type": "code",
   "execution_count": 3,
   "id": "5917fd52-452f-4779-9fb8-6dde2bd8c80c",
   "metadata": {},
   "outputs": [],
   "source": [
    "import numpy as np\n",
    "\n",
    "from sklearn.metrics.pairwise import pairwise_kernels"
   ]
  },
  {
   "cell_type": "code",
   "execution_count": 59,
   "id": "3b86b3fb-2cc6-41c2-bf47-c0232e0199c7",
   "metadata": {},
   "outputs": [],
   "source": [
    "def kernel(x, sigma=0.5):\n",
    "    \"\"\"\n",
    "    Gaussian kernel for vectors\n",
    "    \"\"\"\n",
    "    r = x.size\n",
    "    u = x[np.newaxis, :]\n",
    "\n",
    "#     out = (\n",
    "#         np.power(2 * np.pi, -r / 2)\n",
    "#         / (sigma**r)\n",
    "#         * np.exp(-0.5 * np.linalg.norm(u) ** 2 / sigma)\n",
    "#     )\n",
    "    out = 1/np.sqrt(np.pi**r/(sigma**r)) *np.exp(-0.5 * np.linalg.norm(u) ** 2 / sigma)\n",
    "\n",
    "    return out"
   ]
  },
  {
   "cell_type": "code",
   "execution_count": 37,
   "id": "47ba3a94-460a-4c18-ac0c-ae81154c744d",
   "metadata": {},
   "outputs": [],
   "source": [
    "r =3\n",
    "sigma=0.5"
   ]
  },
  {
   "cell_type": "code",
   "execution_count": 57,
   "id": "6c2d448b-8ef2-421f-a9e9-ff02b429c15a",
   "metadata": {},
   "outputs": [
    {
     "data": {
      "text/plain": [
       "0.5079490874739278"
      ]
     },
     "execution_count": 57,
     "metadata": {},
     "output_type": "execute_result"
    }
   ],
   "source": [
    "np.power(2 * np.pi, -r / 2) / (sigma**r)"
   ]
  },
  {
   "cell_type": "code",
   "execution_count": 51,
   "id": "39f8529a-5080-4b4f-b030-2ca69339cd90",
   "metadata": {},
   "outputs": [
    {
     "data": {
      "text/plain": [
       "0.5079490874739278"
      ]
     },
     "execution_count": 51,
     "metadata": {},
     "output_type": "execute_result"
    }
   ],
   "source": [
    "1. / (np.sqrt((2*np.pi)**r) * (sigma**r))"
   ]
  },
  {
   "cell_type": "code",
   "execution_count": 4,
   "id": "23c00110-8ea2-43b9-b888-76485c32b4d0",
   "metadata": {},
   "outputs": [],
   "source": [
    "X = np.arange(12).reshape(4, -1)"
   ]
  },
  {
   "cell_type": "code",
   "execution_count": 33,
   "id": "8d226735-eb0d-4e28-9bef-f32df552fd4b",
   "metadata": {},
   "outputs": [
    {
     "data": {
      "text/plain": [
       "array([[ 0,  1,  2],\n",
       "       [ 3,  4,  5],\n",
       "       [ 6,  7,  8],\n",
       "       [ 9, 10, 11]])"
      ]
     },
     "execution_count": 33,
     "metadata": {},
     "output_type": "execute_result"
    }
   ],
   "source": [
    "X"
   ]
  },
  {
   "cell_type": "code",
   "execution_count": 25,
   "id": "f77a6016-c229-49dc-93ca-89f533030f95",
   "metadata": {},
   "outputs": [
    {
     "data": {
      "text/plain": [
       "0.06349363593424097"
      ]
     },
     "execution_count": 25,
     "metadata": {},
     "output_type": "execute_result"
    }
   ],
   "source": [
    "1 / np.sqrt((2*np.pi)**3)"
   ]
  },
  {
   "cell_type": "code",
   "execution_count": 61,
   "id": "2b26b56d-b6d5-42ea-b59a-e326bec9ada6",
   "metadata": {},
   "outputs": [
    {
     "data": {
      "text/plain": [
       "3.58014355215742e-13"
      ]
     },
     "execution_count": 61,
     "metadata": {},
     "output_type": "execute_result"
    }
   ],
   "source": [
    "kernel(X[0]-X[1], 0.5)*3"
   ]
  },
  {
   "cell_type": "code",
   "execution_count": 50,
   "id": "8f9e688e-cd93-4ab8-8733-50657a43bf72",
   "metadata": {},
   "outputs": [
    {
     "data": {
      "text/plain": [
       "10.12617"
      ]
     },
     "execution_count": 50,
     "metadata": {},
     "output_type": "execute_result"
    }
   ],
   "source": [
    "3.37539*3"
   ]
  },
  {
   "cell_type": "code",
   "execution_count": 54,
   "id": "9760e842-5037-4a4a-8b9f-6deafdbf4b88",
   "metadata": {},
   "outputs": [
    {
     "data": {
      "text/plain": [
       "15.749609945722419"
      ]
     },
     "execution_count": 54,
     "metadata": {},
     "output_type": "execute_result"
    }
   ],
   "source": [
    "np.sqrt(np.pi**r/(sigma**r))"
   ]
  },
  {
   "cell_type": "code",
   "execution_count": 58,
   "id": "999628ca-22ef-4ba1-89e8-f3b37abd8365",
   "metadata": {},
   "outputs": [
    {
     "data": {
      "text/plain": [
       "0.06349363593424097"
      ]
     },
     "execution_count": 58,
     "metadata": {},
     "output_type": "execute_result"
    }
   ],
   "source": [
    "1/np.sqrt(np.pi**r/(sigma**r))"
   ]
  },
  {
   "cell_type": "code",
   "execution_count": 56,
   "id": "b9ecd458-bfd1-4d08-9d57-6ec41b5dbc21",
   "metadata": {},
   "outputs": [
    {
     "data": {
      "text/plain": [
       "0.5"
      ]
     },
     "execution_count": 56,
     "metadata": {},
     "output_type": "execute_result"
    }
   ],
   "source": [
    "sigma"
   ]
  },
  {
   "cell_type": "code",
   "execution_count": 62,
   "id": "75defcd6-0dfb-4c75-a015-9b788db92c50",
   "metadata": {},
   "outputs": [
    {
     "data": {
      "text/plain": [
       "3"
      ]
     },
     "execution_count": 62,
     "metadata": {},
     "output_type": "execute_result"
    }
   ],
   "source": [
    "r"
   ]
  },
  {
   "cell_type": "code",
   "execution_count": null,
   "id": "29b33d71-6aa0-44cc-ab2b-d832ae35086a",
   "metadata": {},
   "outputs": [],
   "source": []
  }
 ],
 "metadata": {
  "kernelspec": {
   "display_name": "Python 3 (ipykernel)",
   "language": "python",
   "name": "python3"
  },
  "language_info": {
   "codemirror_mode": {
    "name": "ipython",
    "version": 3
   },
   "file_extension": ".py",
   "mimetype": "text/x-python",
   "name": "python",
   "nbconvert_exporter": "python",
   "pygments_lexer": "ipython3",
   "version": "3.7.11"
  }
 },
 "nbformat": 4,
 "nbformat_minor": 5
}
