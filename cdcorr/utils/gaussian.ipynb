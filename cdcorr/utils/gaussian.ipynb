{
 "cells": [
  {
   "cell_type": "code",
   "execution_count": 1,
   "id": "5917fd52-452f-4779-9fb8-6dde2bd8c80c",
   "metadata": {},
   "outputs": [],
   "source": [
    "import numpy as np\n",
    "\n",
    "from sklearn.metrics.pairwise import pairwise_kernels, pairwise_distances\n",
    "\n",
    "import seaborn as sns\n"
   ]
  },
  {
   "cell_type": "code",
   "execution_count": 16,
   "id": "7da78e0b-de6e-4b44-8335-41571a520e47",
   "metadata": {},
   "outputs": [],
   "source": [
    "def compute_constant(d, sigma):\n",
    "    denom = np.power(2 * np.pi, d / 2.) * np.power(sigma, d/2)\n",
    "    return 1 / denom\n",
    "\n",
    "\n",
    "def compute_kernel(X, sigma):\n",
    "    \"\"\"\n",
    "    X : (n_samples, n_dim)\n",
    "    sigma : float\n",
    "    \"\"\"\n",
    "    \n",
    "    d = X.shape[1]\n",
    "    constant = compute_constant(d, sigma)\n",
    "    \n",
    "    kern = pairwise_kernels(X, metric='rbf', gamma=sigma / 2) * constant\n",
    "    \n",
    "    return kern\n",
    "\n",
    "def compute_distance(dx, dy, i, j, k, l):\n",
    "    withinx = dx[i,j] + dx[k,l] - dx[i,k] - dx[j,l]\n",
    "    withiny = dy[i,j] + dy[k,l] - dy[i,k] - dy[j,l]\n",
    "    \n",
    "    return withinx*withiny"
   ]
  },
  {
   "cell_type": "code",
   "execution_count": 44,
   "id": "13cd15ab-72f8-4993-acb7-1ef8387d9dfe",
   "metadata": {},
   "outputs": [],
   "source": [
    "def compute_cov(X, Y, Z, sigma=1, power = 1):\n",
    "    dx = pairwise_distances(X) ** power\n",
    "    dy = pairwise_distances(Y) ** power\n",
    "    dz = compute_kernel(Z, sigma)\n",
    "    \n",
    "    n = X.shape[0]\n",
    "    cov = np.zeros(n)\n",
    "\n",
    "    for u in range(n):\n",
    "        for i in range(n):\n",
    "            for j in range(n):\n",
    "                for k in range(n):\n",
    "                    for l in range(n):\n",
    "                        dijkl = compute_distance(dx, dy, i, j, k, l)\n",
    "                        dijlk = compute_distance(dx, dy, i, j, l, k)\n",
    "                        dilkj = compute_distance(dx, dy, i, l, k, j)\n",
    "                        d = dijkl + dijlk + dilkj\n",
    "\n",
    "                        cov[u] += d * dz[i,u] * dz[j, u] * dz[k, u] * dz[l, u]\n",
    "\n",
    "        cov[u] /= np.power(n, 4)\n",
    "        \n",
    "        \n",
    "    return cov.mean()\n",
    "\n",
    "\n",
    "def compute_cor(X, Y, Z, sigma=1):\n",
    "    cov_xy = compute_cov(X, Y, Z, sigma)\n",
    "    cov_xx = compute_cov(X, X, Z, sigma)\n",
    "    cov_yy = compute_cov(Y, Y, Z, sigma)\n",
    "\n",
    "    return cov_xy / np.sqrt(cov_xx * cov_yy)"
   ]
  },
  {
   "cell_type": "code",
   "execution_count": 37,
   "id": "163e7f7f-3ff8-44cd-87fc-6b74215ef619",
   "metadata": {},
   "outputs": [],
   "source": [
    "X = np.loadtxt(\"../../src/x.csv\", skiprows=1, delimiter=',')\n",
    "Y = np.loadtxt(\"../../src/y.csv\", skiprows=1, delimiter=',')\n",
    "Z = np.loadtxt(\"../../src/z.csv\", skiprows=1, delimiter=',')"
   ]
  },
  {
   "cell_type": "code",
   "execution_count": 45,
   "id": "4bb4b647-21b1-482f-b34e-87a98b77c625",
   "metadata": {},
   "outputs": [
    {
     "data": {
      "text/plain": [
       "6.761120434936672e-07"
      ]
     },
     "execution_count": 45,
     "metadata": {},
     "output_type": "execute_result"
    }
   ],
   "source": [
    "compute_cov(X, Y, Z, )"
   ]
  },
  {
   "cell_type": "code",
   "execution_count": 49,
   "id": "b14de49e-0865-4f18-9980-ad72b158dc2a",
   "metadata": {},
   "outputs": [],
   "source": [
    "def example1(n):\n",
    "    mean = np.array([0, 0, 0])\n",
    "    cov = np.array(\n",
    "        [1, 0.36, 0.6],\n",
    "        [0.36, 1, 0.6],\n",
    "        [0.6, 0.6, 1]\n",
    "    )\n",
    "    \n",
    "    X = np.random.multivariate_normal(mean, cov, size=n)\n",
    "    Y = np.random.multivariate_normal(mean, cov, size=n)\n",
    "    Z = np.random.multivariate_normal(mean, cov, size=n)\n",
    "    \n",
    "    return X, Y, Z"
   ]
  },
  {
   "cell_type": "code",
   "execution_count": null,
   "id": "aad4a851-b402-4adf-aff3-cbd92a394fc7",
   "metadata": {},
   "outputs": [],
   "source": []
  }
 ],
 "metadata": {
  "kernelspec": {
   "display_name": "Python 3 (ipykernel)",
   "language": "python",
   "name": "python3"
  },
  "language_info": {
   "codemirror_mode": {
    "name": "ipython",
    "version": 3
   },
   "file_extension": ".py",
   "mimetype": "text/x-python",
   "name": "python",
   "nbconvert_exporter": "python",
   "pygments_lexer": "ipython3",
   "version": "3.7.11"
  }
 },
 "nbformat": 4,
 "nbformat_minor": 5
}
